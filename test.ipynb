import numpy as np
#ini baru edit
import matplotlib.pyplot as plt
#edit ke 2
